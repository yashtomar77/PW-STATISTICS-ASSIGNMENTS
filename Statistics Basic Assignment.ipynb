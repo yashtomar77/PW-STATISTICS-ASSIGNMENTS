{
 "cells": [
  {
   "cell_type": "markdown",
   "id": "db0d56aa-2da9-4e77-9167-8c92e4b83d2f",
   "metadata": {},
   "source": [
    "# STATISTICS BASIC ASSIGNMENT"
   ]
  },
  {
   "cell_type": "markdown",
   "id": "55788ca2-0c01-40ca-9703-2c02fbea8068",
   "metadata": {},
   "source": [
    "# Q1. What is Statistics?"
   ]
  },
  {
   "cell_type": "markdown",
   "id": "68b20674-5e9a-4770-b2b9-ac540d259b38",
   "metadata": {},
   "source": [
    "Statistics is a branch of mathematics that deals with collecting, analyzing, interpreting, presenting, and organizing data. It involves the study of methods for collecting, summarizing, and interpreting data, as well as drawing valid conclusions and making informed decisions based on the data. Statistics is used in various fields such as science, business, economics, and social sciences to understand data and make predictions or decisions."
   ]
  },
  {
   "cell_type": "markdown",
   "id": "330cead6-f18b-4f39-92fd-396993b1d3e3",
   "metadata": {},
   "source": [
    "# Q2. Define the different types of statistics and give an example of when each type might be used."
   ]
  },
  {
   "cell_type": "markdown",
   "id": "3100a59c-45f3-4b5b-bc17-19c3083b71b4",
   "metadata": {},
   "source": [
    "1. Descriptive Statistics:\n",
    "\n",
    "Descriptive statistics are used to summarize and describe the main features of a dataset.\n",
    "Example: Calculating the average height of students in a classroom or the median income of households in a city.\n",
    "\n",
    "2. Inferential Statistics:\n",
    "\n",
    "Inferential statistics involve making predictions or inferences about a population based on a sample of data.\n",
    "Example: Using the results of a survey of 1000 people to estimate the percentage of the entire population that supports a certain political candidate.\n",
    "\n",
    "3. Exploratory Statistics:\n",
    "\n",
    "Exploratory statistics are used to analyze and explore data to find patterns, trends, or relationships.\n",
    "Example: Creating scatter plots and histograms to visualize the relationship between rainfall and crop yields.\n",
    "\n",
    "4. Predictive Statistics:\n",
    "\n",
    "Predictive statistics involve using data to make predictions about future outcomes or events.\n",
    "Example: Building a model to predict stock prices based on historical market data.\n",
    "\n",
    "5. Prescriptive Statistics:\n",
    "\n",
    "Prescriptive statistics involve using data and analysis to recommend or prescribe a course of action.\n",
    "Example: Analyzing patient data to determine the most effective treatment for a particular disease based on past outcomes."
   ]
  },
  {
   "cell_type": "markdown",
   "id": "e8a9a114-4ea9-4972-97cd-6932d6c75967",
   "metadata": {},
   "source": [
    "# Q3. What are the different types of data and how do they differ from each other? Provide an example of each type of data."
   ]
  },
  {
   "cell_type": "markdown",
   "id": "2ab49e84-9089-459b-9588-eb450d13d996",
   "metadata": {},
   "source": [
    "There are mainly two types of data: categorical and numerical.\n",
    "\n",
    "1. Categorical Data:\n",
    "\n",
    "-Categorical data represent categories or groups.\n",
    "They can be further divided into nominal and ordinal data.\n",
    "\n",
    "-Nominal data: Categories with no inherent order or ranking.\n",
    "Example: Colors (red, blue, green)\n",
    "\n",
    "-Ordinal data: Categories with a specific order or ranking.\n",
    "Example: Education level (high school, bachelor's, master's, PhD).\n",
    "\n",
    "2. Numerical Data:\n",
    "\n",
    "-Numerical data represent quantities and can be further divided into discrete and continuous data.\n",
    "\n",
    "-Discrete data: Countable and finite numbers.\n",
    "Example: Number of cars in a parking lot (1, 2, 3,...).\n",
    "\n",
    "-Continuous data: Infinite and uncountable numbers within a range.\n",
    "Example: Height of individuals (5.6 feet, 5.7 feet, 5.8 feet,...).\n",
    "\n",
    ">>Categorical data deals with characteristics and labels, while numerical data deals with numbers and quantities. Understanding the type of data is crucial for selecting the appropriate statistical analysis methods."
   ]
  },
  {
   "cell_type": "markdown",
   "id": "cdd3a5eb-51bf-4073-890f-39b46bb2bc41",
   "metadata": {},
   "source": [
    "# Q4. Categorise the following datasets with respect to quantitative and qualitative data types \n",
    "# (i) Grading in exam: A+, A, B+, B, C+, C, D, E\n",
    "# (ii) Colour of mangoes: yellow, green, orange, red\n",
    "# (iii) Height data of a class: [178.9, 179, 179.5, 176, 177.2, 178.3, 175.8,...]\n",
    "# (iv) Number of mangoes exported by a farm: [500, 600, 478, 672, ...]"
   ]
  },
  {
   "cell_type": "markdown",
   "id": "38847c0d-7865-4433-9052-afff00fddca9",
   "metadata": {},
   "source": [
    "Here's the answer :-\n",
    "\n",
    "(i) Grading in exam: Qualitative (categorical) data\n",
    "\n",
    "(ii) Colour of mangoes: Qualitative (categorical) data\n",
    "\n",
    "(iii) Height data of a class: Quantitative (continuous) data\n",
    "\n",
    "(iv) Number of mangoes exported by a farm: Quantitative (discrete) data"
   ]
  },
  {
   "cell_type": "markdown",
   "id": "fee3c67b-76cc-4bd5-a4a2-6ce85d6acf41",
   "metadata": {},
   "source": [
    "# Q5. Explain the concept of levels of measurement and give an example of a variable for each level."
   ]
  },
  {
   "cell_type": "markdown",
   "id": "737c970d-881a-41e9-92e0-6af7d49d6b1a",
   "metadata": {},
   "source": [
    "Levels of measurement, also known as scales of measurement, refer to the different ways in which variables can be classified or measured. There are four main levels of measurement: nominal, ordinal, interval, and ratio.\n",
    "\n",
    "1. Nominal Level of Measurement:\n",
    "\n",
    "-This is the simplest level of measurement where variables are categorized into distinct groups or categories.\n",
    "\n",
    "-Example: Gender (male, female), blood type (A, B, AB, O).\n",
    "\n",
    "2. Ordinal Level of Measurement:\n",
    "\n",
    "-Variables at this level can be ranked or ordered, but the differences between them are not meaningful or consistent.\n",
    "\n",
    "-Example: Educational level (high school, bachelor's, master's, PhD), socioeconomic status (low, medium, high).\n",
    "\n",
    "3. Interval Level of Measurement:\n",
    "\n",
    "-Variables at this level can be ordered, and the differences between values are meaningful, but there is no true zero point.\n",
    "\n",
    "-Example: Temperature in Celsius or Fahrenheit (0°C does not mean zero temperature).\n",
    "\n",
    "4. Ratio Level of Measurement:\n",
    "\n",
    "-Variables at this level have all the properties of interval variables, but they also have a true zero point, indicating the absence of the quantity being measured.\n",
    "\n",
    "-Example: Height, weight, age, income (a height of 0 cm or a weight of 0 kg is meaningful)."
   ]
  },
  {
   "cell_type": "markdown",
   "id": "5187c609-e803-4ecf-bd81-78b272cba22d",
   "metadata": {},
   "source": [
    "# Q6. Why is it important to understand the level of measurement when analyzing data? Provide an example to illustrate your answer."
   ]
  },
  {
   "cell_type": "markdown",
   "id": "ec6c8a67-4005-4b3b-9097-68f741a0a65e",
   "metadata": {},
   "source": [
    "Understanding the level of measurement when analyzing data is crucial because it determines the type of statistical analysis that can be applied and the appropriate mathematical operations that can be performed on the data. Using the wrong statistical analysis method for a particular level of measurement can lead to incorrect conclusions or interpretations.\n",
    "For example, consider a scenario where we have data on the favorite colors of individuals, categorized as \"red,\" \"blue,\" and \"green\" (nominal level of measurement), and data on their satisfaction level with a product, categorized as \"satisfied,\" \"neutral,\" and \"dissatisfied\" (ordinal level of measurement).\n",
    "\n",
    "If we mistakenly treat the ordinal data on satisfaction level as nominal data and perform a mode calculation (most frequently occurring category), we might incorrectly conclude that the most common satisfaction level is \"neutral,\" without considering the order or magnitude of satisfaction.\n",
    "\n",
    "Similarly, if we treat interval or ratio data as ordinal data, we might misinterpret the data by assuming that the intervals between values are equal when they are not (e.g., treating temperature data in Celsius as ordinal instead of interval).\n",
    "\n",
    "Understanding the level of measurement ensures that appropriate statistical techniques are used, leading to accurate and reliable analysis and interpretation of the data.\n"
   ]
  },
  {
   "cell_type": "markdown",
   "id": "37fb5521-22a2-4eba-a163-7415b5a4fd91",
   "metadata": {},
   "source": [
    "# Q7. How nominal data type is different from ordinal data type."
   ]
  },
  {
   "cell_type": "markdown",
   "id": "c12b3d81-bd02-41a0-9a41-aac86f928030",
   "metadata": {},
   "source": [
    "Nominal and ordinal data types are both categorical data types, but they differ in the way the categories are ordered and measured:\n",
    "\n",
    "1.Nominal Data:\n",
    "\n",
    "-Nominal data consist of categories with no inherent order or ranking.\n",
    "Examples: Colors (red, blue, green), gender (male, female), types of fruit (apple, banana, orange).\n",
    "\n",
    "-In nominal data, the categories are merely labels used to differentiate between groups.\n",
    "\n",
    "2.  Ordinal Data:\n",
    "\n",
    "Ordinal data consist of categories that have a specific order or ranking.\n",
    "Examples: Educational level (high school, bachelor's, master's, PhD), survey responses (strongly disagree, disagree, neutral, agree, strongly agree).\n",
    "\n",
    "-In ordinal data, the categories have a meaningful order, but the differences between the categories are not necessarily equal.\n",
    "\n",
    " << In summary, nominal data do not have a meaningful order, while ordinal data do have a specific order or ranking."
   ]
  },
  {
   "cell_type": "markdown",
   "id": "a11e9fb7-391a-4c4c-ba0c-533fb65da1df",
   "metadata": {},
   "source": [
    "# Q8. Which type of plot can be used to display data in terms of range?"
   ]
  },
  {
   "cell_type": "markdown",
   "id": "addf6806-d529-4a1d-8d8f-a6e01e8fba37",
   "metadata": {},
   "source": [
    "A box plot (also known as a box-and-whisker plot) is often used to display data in terms of range. It provides a visual summary of the minimum, first quartile, median, third quartile, and maximum of a dataset, allowing you to quickly see the range and distribution of the data."
   ]
  },
  {
   "cell_type": "markdown",
   "id": "e664fcc0-0dcb-4f3e-9575-ca082b56b8d8",
   "metadata": {},
   "source": [
    "# Q9. Describe the difference between descriptive and inferential statistics. Give an example of each type of statistics and explain how they are used."
   ]
  },
  {
   "cell_type": "markdown",
   "id": "b2f51545-919f-4672-ac40-23f39ff117d7",
   "metadata": {},
   "source": [
    "# 1. Descriptive Statistics:\n",
    "\n",
    "--Definition: Descriptive statistics involve methods for summarizing and describing data. They are used to present the main features of a dataset, such as the mean, median, mode, range, and standard deviation.\n",
    "\n",
    "--Example: Suppose you have a dataset of the heights of students in a class. Descriptive statistics would be used to calculate the average height, the tallest and shortest students, and the spread of heights around the average.\n",
    "\n",
    "--Use: Descriptive statistics are used to provide a clear and concise summary of the data. They help in understanding the characteristics of the data and are often used in preliminary analysis to gain insights into the dataset.\n",
    "\n",
    "# 2.Inferential Statistics:\n",
    "\n",
    "--Definition: Inferential statistics involve methods for making predictions or inferences about a population based on a sample of data. They are used to draw conclusions and make decisions about a population based on the sample data.\n",
    "\n",
    "--Example: Continuing with the example of student heights, inferential statistics could be used to estimate the average height of all students in the school based on the heights of the students in the class.\n",
    "\n",
    "--Use: Inferential statistics are used when it is not feasible to collect data from an entire population. Instead, a sample is taken, and inferential statistics are used to generalize the findings from the sample to the larger population.\n",
    "\n",
    ">> # In summary, descriptive statistics are used to describe and summarize data, while inferential statistics are used to make predictions or inferences about a population based on a sample of data."
   ]
  },
  {
   "cell_type": "markdown",
   "id": "f7c6b071-b7e7-4d28-a09c-8a4c33de292a",
   "metadata": {},
   "source": [
    "# Q10. What are some common measures of central tendency and variability used in statistics? Explain how each measure can be used to describe a dataset."
   ]
  },
  {
   "cell_type": "markdown",
   "id": "638d77b7-9498-4ecc-84e2-4220322f38fd",
   "metadata": {},
   "source": [
    "# Measures of Central Tendency:\n",
    "\n",
    "Mean: Average of dataset, sensitive to extreme values.\n",
    "\n",
    "Median: Middle value, not affected by extreme values.\n",
    "\n",
    "Mode: Most frequent value, used for categorical and numerical data.\n",
    "\n",
    "# Measures of Variability:\n",
    "\n",
    "Range: Difference between max and min values, simple measure of spread.\n",
    "\n",
    "Variance: Average of squared differences from mean, indicates data spread.\n",
    "\n",
    "Standard Deviation: Square root of variance, provides spread around mean.\n",
    "\n",
    "# How They Describe a Dataset:\n",
    "\n",
    "Central Tendency: Gives a single value representing center of data.\n",
    "\n",
    "Variability: Indicates spread or clustering of data around central value.\n"
   ]
  },
  {
   "cell_type": "code",
   "execution_count": null,
   "id": "a9760683-15d4-45b7-a298-a70328d8c4dc",
   "metadata": {},
   "outputs": [],
   "source": []
  }
 ],
 "metadata": {
  "kernelspec": {
   "display_name": "Python 3 (ipykernel)",
   "language": "python",
   "name": "python3"
  },
  "language_info": {
   "codemirror_mode": {
    "name": "ipython",
    "version": 3
   },
   "file_extension": ".py",
   "mimetype": "text/x-python",
   "name": "python",
   "nbconvert_exporter": "python",
   "pygments_lexer": "ipython3",
   "version": "3.10.8"
  }
 },
 "nbformat": 4,
 "nbformat_minor": 5
}
